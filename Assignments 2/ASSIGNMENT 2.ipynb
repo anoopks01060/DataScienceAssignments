{
 "cells": [
  {
   "cell_type": "markdown",
   "id": "2d8dd764",
   "metadata": {},
   "source": [
    "Assignment 2.1"
   ]
  },
  {
   "cell_type": "code",
   "execution_count": 1,
   "id": "ded7c7c3",
   "metadata": {},
   "outputs": [],
   "source": [
    "import pandas as pd\n",
    "import numpy as np\n",
    "import matplotlib.pyplot as plt\n",
    "import scipy.stats as stats\n",
    "import seaborn as sns\n",
    "import statsmodels.api as smf\n",
    "import warnings\n",
    "warnings.filterwarnings('ignore')"
   ]
  },
  {
   "cell_type": "code",
   "execution_count": null,
   "id": "249222c2",
   "metadata": {},
   "outputs": [],
   "source": [
    "Measure_x="
   ]
  }
 ],
 "metadata": {
  "kernelspec": {
   "display_name": "Python 3 (ipykernel)",
   "language": "python",
   "name": "python3"
  },
  "language_info": {
   "codemirror_mode": {
    "name": "ipython",
    "version": 3
   },
   "file_extension": ".py",
   "mimetype": "text/x-python",
   "name": "python",
   "nbconvert_exporter": "python",
   "pygments_lexer": "ipython3",
   "version": "3.9.12"
  }
 },
 "nbformat": 4,
 "nbformat_minor": 5
}
